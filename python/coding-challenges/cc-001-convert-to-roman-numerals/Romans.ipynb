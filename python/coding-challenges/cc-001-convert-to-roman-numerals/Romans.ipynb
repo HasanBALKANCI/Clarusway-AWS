{
 "cells": [
  {
   "cell_type": "code",
   "execution_count": 1,
   "metadata": {},
   "outputs": [],
   "source": [
    "# solution1 \n",
    "def solution(roman):\n",
    "    dict = {\n",
    "        \"M\": 1000,\n",
    "        \"D\": 500,\n",
    "        \"C\": 100,\n",
    "        \"L\": 50,\n",
    "        \"X\": 10,\n",
    "        \"V\": 5,\n",
    "        \"I\": 1\n",
    "    }\n",
    "\n",
    "    last, total = 0, 0\n",
    "    for c in list(roman)[::-1]:\n",
    "        if last == 0:\n",
    "            total += dict[c]\n",
    "        elif last > dict[c]:\n",
    "            total -= dict[c]\n",
    "        else:\n",
    "            total += dict[c]\n",
    "        last = dict[c]\n",
    "    return total"
   ]
  },
  {
   "cell_type": "code",
   "execution_count": null,
   "metadata": {},
   "outputs": [],
   "source": []
  }
 ],
 "metadata": {
  "interpreter": {
   "hash": "aee8b7b246df8f9039afb4144a1f6fd8d2ca17a180786b69acc140d282b71a49"
  },
  "kernelspec": {
   "display_name": "Python 3.10.4 64-bit",
   "language": "python",
   "name": "python3"
  },
  "language_info": {
   "codemirror_mode": {
    "name": "ipython",
    "version": 3
   },
   "file_extension": ".py",
   "mimetype": "text/x-python",
   "name": "python",
   "nbconvert_exporter": "python",
   "pygments_lexer": "ipython3",
   "version": "3.10.4"
  },
  "orig_nbformat": 4
 },
 "nbformat": 4,
 "nbformat_minor": 2
}
