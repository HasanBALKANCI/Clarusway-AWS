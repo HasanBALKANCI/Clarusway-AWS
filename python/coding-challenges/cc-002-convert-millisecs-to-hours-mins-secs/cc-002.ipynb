{
 "cells": [
  {
   "cell_type": "code",
   "execution_count": null,
   "metadata": {},
   "outputs": [],
   "source": [
    "# trying 1\n",
    "def convert(miliseconds):\n",
    "    miliseconds = input(\"Enter miliseconds to convert:\")\n",
    "    if miliseconds.isdecimal:\n",
    "\n",
    "        hours = miliseconds//3_600_000\n",
    "        minute = miliseconds // 60_000\n",
    "        second = miliseconds // 1000\n",
    "        print(hours, minute, second)\n",
    "    else:\n",
    "        print(\"This is unsuitable format. Please enter right format\")"
   ]
  },
  {
   "cell_type": "code",
   "execution_count": 11,
   "metadata": {},
   "outputs": [
    {
     "name": "stdout",
     "output_type": "stream",
     "text": [
      "\n",
      "Milliseconds of \"20000\"\" is equal to  20 second/s\n",
      "\n",
      "Milliseconds of \"35000\"\" is equal to  35 second/s\n",
      "\n",
      "Exiting the program... Good Bye\n"
     ]
    }
   ],
   "source": [
    "# trying 2 (improved one)\n",
    "\n",
    "def convert(milliseconds):\n",
    "    # one hour in milliseconds\n",
    "    hour_in_milliseconds = 60*60*1000\n",
    "    # calculate the hours within given milliseconds\n",
    "    hours = milliseconds // hour_in_milliseconds\n",
    "    # calculate milliseconds left over when hours subtractedexit    \n",
    "    milliseconds_left = milliseconds % hour_in_milliseconds\n",
    "    # one minute in milliseconds\n",
    "    minutes_in_milliseconds = 60*1000\n",
    "    # calculate the minutes within remainder milliseconds\n",
    "    minutes = milliseconds_left // minutes_in_milliseconds\n",
    "    # calculate milliseconds left over when minutes subtracted\n",
    "    milliseconds_left %= minutes_in_milliseconds\n",
    "    # calculate the seconds within remainder milliseconds\n",
    "    seconds = milliseconds_left // 1000\n",
    "    # format the output string\n",
    "    return f'{hours} hour/s'*(hours != 0) + f' {minutes} minute/s'*(minutes != 0) + f' {seconds} second/s' *(seconds != 0) or f'just {milliseconds} millisecond/s' * (milliseconds < 1000)\n",
    "\n",
    "# flag to show warning to the user, default is False.\n",
    "is_invalid = False\n",
    "\n",
    "# start endless loop to get user input continuously\n",
    "while True:\n",
    "    # info text to be shown to the user\n",
    "    info = \"Please enter the milliseconds (should be greater than zero) : \"\n",
    "# This program converts milliseconds into hours, minutes, and seconds \n",
    "\n",
    "    # get the user input after showing info text.\n",
    "    # if is_invalid set to True then show additional warning to the user\n",
    "    # pass the input the alphanum variable after stripping white space characters\n",
    "    alphanum = input('\\nNot Valid Input !!!\\n'*is_invalid + info).strip()\n",
    "    # if the input is not decimal number\n",
    "    if not alphanum.isdecimal():\n",
    "        # then check, if it is the \"exit\" keyword\n",
    "        if alphanum.lower() == 'exit':\n",
    "            # if it is \"exit\", then say goodbye and terminate the program\n",
    "            print('\\nExiting the program... Good Bye')\n",
    "            break\n",
    "        # if it is a string other than \"exit\"\n",
    "        else:\n",
    "            # then set to invalid flag to True to show warning and continue with next cycle\n",
    "            is_invalid = True\n",
    "            continue\n",
    "    # convert the given string to the integer\n",
    "    millisecs = int(alphanum)\n",
    "    # if the milliseconds is greater than 0\n",
    "    if 0 < millisecs:\n",
    "        # then convert milliseconds and print out the user\n",
    "        print(\n",
    "            f'\\nMilliseconds of \"{alphanum}\"\" is equal to {convert(millisecs)}')\n",
    "        # and set invalid flag to the False, it might be set the True in previous cycle\n",
    "        is_invalid = False\n",
    "    # if the millisecond is out of bounds\n",
    "    else:\n",
    "        # then set to invalid flag to True to show warning\n",
    "        is_invalid = True\n",
    "\n"
   ]
  }
 ],
 "metadata": {
  "interpreter": {
   "hash": "aee8b7b246df8f9039afb4144a1f6fd8d2ca17a180786b69acc140d282b71a49"
  },
  "kernelspec": {
   "display_name": "Python 3.10.4 64-bit",
   "language": "python",
   "name": "python3"
  },
  "language_info": {
   "codemirror_mode": {
    "name": "ipython",
    "version": 3
   },
   "file_extension": ".py",
   "mimetype": "text/x-python",
   "name": "python",
   "nbconvert_exporter": "python",
   "pygments_lexer": "ipython3",
   "version": "3.10.4"
  },
  "orig_nbformat": 4
 },
 "nbformat": 4,
 "nbformat_minor": 2
}
