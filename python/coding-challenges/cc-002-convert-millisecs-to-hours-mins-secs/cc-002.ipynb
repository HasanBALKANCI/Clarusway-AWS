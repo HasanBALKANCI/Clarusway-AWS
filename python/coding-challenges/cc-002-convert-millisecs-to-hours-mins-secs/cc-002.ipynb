{
 "cells": [
  {
   "cell_type": "code",
   "execution_count": null,
   "metadata": {},
   "outputs": [],
   "source": [
    "def convert(miliseconds):\n",
    "    miliseconds = input(\"Enter miliseconds to convert:\")\n",
    "    if miliseconds.isdecimal:\n",
    "        \n",
    "        hours = miliseconds//3_600_000\n",
    "        minute = miliseconds // 60_000\n",
    "        second = miliseconds // 1000\n",
    "        \n",
    "        \n",
    "        \n",
    "    \n",
    "    else:\n",
    "        print(\"This is unsuitable format. Please enter right format\")"
   ]
  },
  {
   "cell_type": "code",
   "execution_count": 4,
   "metadata": {},
   "outputs": [
    {
     "data": {
      "text/plain": [
       "102"
      ]
     },
     "execution_count": 4,
     "metadata": {},
     "output_type": "execute_result"
    }
   ],
   "source": [
    "36_000_000//350000"
   ]
  },
  {
   "cell_type": "code",
   "execution_count": null,
   "metadata": {},
   "outputs": [],
   "source": []
  }
 ],
 "metadata": {
  "interpreter": {
   "hash": "aee8b7b246df8f9039afb4144a1f6fd8d2ca17a180786b69acc140d282b71a49"
  },
  "kernelspec": {
   "display_name": "Python 3.10.4 64-bit",
   "language": "python",
   "name": "python3"
  },
  "language_info": {
   "codemirror_mode": {
    "name": "ipython",
    "version": 3
   },
   "file_extension": ".py",
   "mimetype": "text/x-python",
   "name": "python",
   "nbconvert_exporter": "python",
   "pygments_lexer": "ipython3",
   "version": "3.10.4"
  },
  "orig_nbformat": 4
 },
 "nbformat": 4,
 "nbformat_minor": 2
}
