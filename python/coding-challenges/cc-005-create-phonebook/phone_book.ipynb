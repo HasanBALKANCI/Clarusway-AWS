{
 "cells": [
  {
   "cell_type": "code",
   "execution_count": 14,
   "metadata": {},
   "outputs": [
    {
     "name": "stdout",
     "output_type": "stream",
     "text": [
      "1. Find phone number\n",
      "2. Insert a phone number\n",
      "3. Delete a person from the phonebook\n",
      "4. Quit\n",
      "Phone of hasan couldn't find.\n",
      "Phone of fatih couldn't find.\n",
      "Add Name and Number\n",
      "Name:  Hasan \tNumber: 467464684\n",
      "Remove Name and Number\n",
      "HAsan was not found\n",
      "Name:  Hasan \tNumber: 467464684\n",
      "Name:  Hasan \tNumber: 467464684\n",
      "Name:  Hasan \tNumber: 467464684\n"
     ]
    },
    {
     "ename": "ValueError",
     "evalue": "invalid literal for int() with base 10: 'Ali'",
     "output_type": "error",
     "traceback": [
      "\u001b[0;31m---------------------------------------------------------------------------\u001b[0m",
      "\u001b[0;31mValueError\u001b[0m                                Traceback (most recent call last)",
      "\u001b[1;32m/Users/hasanbalkanci/Desktop/My_GitHub/Clarusway-AWS/python/coding-challenges/cc-005-create-phonebook/phone_book.ipynb Cell 1'\u001b[0m in \u001b[0;36m<cell line: 10>\u001b[0;34m()\u001b[0m\n\u001b[1;32m      <a href='vscode-notebook-cell:/Users/hasanbalkanci/Desktop/My_GitHub/Clarusway-AWS/python/coding-challenges/cc-005-create-phonebook/phone_book.ipynb#ch0000000?line=8'>9</a>\u001b[0m print_menu()\n\u001b[1;32m     <a href='vscode-notebook-cell:/Users/hasanbalkanci/Desktop/My_GitHub/Clarusway-AWS/python/coding-challenges/cc-005-create-phonebook/phone_book.ipynb#ch0000000?line=9'>10</a>\u001b[0m \u001b[39mwhile\u001b[39;00m menu_choice \u001b[39m!=\u001b[39m \u001b[39m4\u001b[39m:\n\u001b[0;32m---> <a href='vscode-notebook-cell:/Users/hasanbalkanci/Desktop/My_GitHub/Clarusway-AWS/python/coding-challenges/cc-005-create-phonebook/phone_book.ipynb#ch0000000?line=10'>11</a>\u001b[0m     menu_choice \u001b[39m=\u001b[39m \u001b[39mint\u001b[39;49m(\u001b[39minput\u001b[39;49m(\u001b[39m\"\u001b[39;49m\u001b[39mType in a number (1-4): \u001b[39;49m\u001b[39m\"\u001b[39;49m))\n\u001b[1;32m     <a href='vscode-notebook-cell:/Users/hasanbalkanci/Desktop/My_GitHub/Clarusway-AWS/python/coding-challenges/cc-005-create-phonebook/phone_book.ipynb#ch0000000?line=11'>12</a>\u001b[0m     \u001b[39mif\u001b[39;00m menu_choice \u001b[39m==\u001b[39m \u001b[39m1\u001b[39m:\n\u001b[1;32m     <a href='vscode-notebook-cell:/Users/hasanbalkanci/Desktop/My_GitHub/Clarusway-AWS/python/coding-challenges/cc-005-create-phonebook/phone_book.ipynb#ch0000000?line=12'>13</a>\u001b[0m         x \u001b[39m=\u001b[39m \u001b[39minput\u001b[39m(\u001b[39m\"\u001b[39m\u001b[39mThe name whose phonenumber you want to learn:\u001b[39m\u001b[39m\"\u001b[39m)\n",
      "\u001b[0;31mValueError\u001b[0m: invalid literal for int() with base 10: 'Ali'"
     ]
    }
   ],
   "source": [
    "\n",
    "def print_menu():\n",
    "    print('1. Find phone number')\n",
    "    print('2. Insert a phone number')\n",
    "    print('3. Delete a person from the phonebook')\n",
    "    print('4. Quit')\n",
    "\n",
    "numbers = {}\n",
    "menu_choice = 0\n",
    "print_menu()\n",
    "while menu_choice != 4:\n",
    "    menu_choice = int(input(\"Type in a number (1-4): \"))\n",
    "    if menu_choice == 1:\n",
    "        x = input(\"The name whose phonenumber you want to learn:\")\n",
    "        for x in numbers.keys():\n",
    "            print(\"Name: \", x, \"\\tNumber:\", numbers[x])\n",
    "        if x not in numbers.keys():\n",
    "            print(\"Phone of\", x, \"couldn't find.\")\n",
    "    elif menu_choice == 2:\n",
    "        print(\"Add Name and Number\")\n",
    "        name = input(\"Name: \")\n",
    "        phone = input(\"Number: \")\n",
    "        numbers[name] = phone\n",
    "    elif menu_choice == 3:\n",
    "        print(\"Remove Name and Number\")\n",
    "        name = input(\"Name: \")\n",
    "        if name in numbers:\n",
    "            del numbers[name]\n",
    "            print(name, \"was removed succesfully.\")\n",
    "        else:\n",
    "            print(name, \"was not found\")\n",
    "        \n",
    "    elif menu_choice != 4:\n",
    "        print_menu()\n",
    "print(\"Thanks to use phonebook app.\")\n",
    "    \n",
    "\n",
    "    "
   ]
  },
  {
   "cell_type": "code",
   "execution_count": null,
   "metadata": {},
   "outputs": [],
   "source": []
  }
 ],
 "metadata": {
  "kernelspec": {
   "display_name": "Python 3.10.4 64-bit",
   "language": "python",
   "name": "python3"
  },
  "language_info": {
   "codemirror_mode": {
    "name": "ipython",
    "version": 3
   },
   "file_extension": ".py",
   "mimetype": "text/x-python",
   "name": "python",
   "nbconvert_exporter": "python",
   "pygments_lexer": "ipython3",
   "version": "3.10.4"
  },
  "orig_nbformat": 4,
  "vscode": {
   "interpreter": {
    "hash": "aee8b7b246df8f9039afb4144a1f6fd8d2ca17a180786b69acc140d282b71a49"
   }
  }
 },
 "nbformat": 4,
 "nbformat_minor": 2
}
