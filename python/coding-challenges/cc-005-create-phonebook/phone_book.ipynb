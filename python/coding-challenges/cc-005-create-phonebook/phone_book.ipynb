{
 "cells": [
  {
   "cell_type": "code",
   "execution_count": null,
   "metadata": {},
   "outputs": [],
   "source": [
    "\n",
    "namephone = {}\n",
    "\n",
    "num = input(\"Welcome to the phonebook application.\\\n",
    "    Select operation on Phonebook App:\\\n",
    "    1. Find phone Number\\\n",
    "    2. Insert a phone number\\\n",
    "    3. Delete the person from the phone_book\\\n",
    "    4. Terminate\")\n",
    "\n",
    "while not num == 4:\n",
    "    if num == 1:\n",
    "        name = \"Insert name of the person:\"\n",
    "        print(\"phone of\", name, \"is\", namephone.get(name))\n",
    "        if name not in namephone.key():\n",
    "            print(\"Number of\", name, \"couldn't find.\")\n",
    "    if num == 2:\n",
    "        name = \"Insert :\"\n",
    "        print(\"phone of\", name, \"is\", namephone.get(name))\n",
    "\n",
    "\n",
    "\n",
    "    \n",
    "\n",
    "    "
   ]
  }
 ],
 "metadata": {
  "language_info": {
   "name": "python"
  },
  "orig_nbformat": 4
 },
 "nbformat": 4,
 "nbformat_minor": 2
}
